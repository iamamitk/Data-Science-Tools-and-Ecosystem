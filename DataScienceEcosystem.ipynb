{
 "cells": [
  {
   "cell_type": "markdown",
   "id": "d63e2322-bdd5-41c5-85fd-7878881c08bd",
   "metadata": {},
   "source": [
    "# Data Science Tools and Ecosystem"
   ]
  },
  {
   "cell_type": "markdown",
   "id": "6382240f-4039-4061-a1d2-e92ed7a482d2",
   "metadata": {},
   "source": [
    "In this notebook, Data Science Tools and Ecosystems are summarized"
   ]
  },
  {
   "cell_type": "markdown",
   "id": "bdbdce85-d0c7-4480-9bab-35aa9d014c9e",
   "metadata": {},
   "source": [
    "__Objectives:__ \n",
    "* List of popular languages used by Data Scientists\n",
    "* Commonly used libraries by Data Scientists\n",
    "* Data Science Tools\n",
    "* Few examples of Arithmetic expressions in Python"
   ]
  },
  {
   "cell_type": "markdown",
   "id": "b9b729c5-efeb-4276-9597-e2b7aef99bb9",
   "metadata": {},
   "source": [
    "Some of the popular languages data scientists use are:\n",
    "1. Python\n",
    "2. Julia\n",
    "3. R\n",
    "4. SQL\n"
   ]
  },
  {
   "cell_type": "markdown",
   "id": "9ed91222-7f91-4d92-9609-76f740887413",
   "metadata": {},
   "source": [
    "Some of the commonly used libraries used by Data Scientists include:\n",
    "1. Numpy\n",
    "2. Pandas\n",
    "3. Scipy\n",
    "4. Matplotlib\n"
   ]
  },
  {
   "cell_type": "markdown",
   "id": "bcf25ca3-b894-47a3-a496-197990dc42bd",
   "metadata": {},
   "source": [
    "|Data Science tools |\n",
    "| --- | \n",
    "| Visual Studio Code |\n",
    "| Atom |\n",
    "| Pycharm |\n",
    "| Spyder |\n"
   ]
  },
  {
   "cell_type": "markdown",
   "id": "c529ebf2-65f6-4521-989c-38f293483838",
   "metadata": {},
   "source": [
    "### Below are a few examples of evaluating arithmetic expressions in Python"
   ]
  },
  {
   "cell_type": "code",
   "execution_count": 1,
   "id": "f7fcb3b8-56ca-4a96-9c23-14a311c101ba",
   "metadata": {},
   "outputs": [
    {
     "data": {
      "text/plain": [
       "17"
      ]
     },
     "execution_count": 1,
     "metadata": {},
     "output_type": "execute_result"
    }
   ],
   "source": [
    "# This a simple arithmetic expression to mutiply then add integers\n",
    "(3*4)+5"
   ]
  },
  {
   "cell_type": "code",
   "execution_count": 2,
   "id": "1fbb1cba-4a87-4edc-940b-785f6f214ebb",
   "metadata": {},
   "outputs": [
    {
     "data": {
      "text/plain": [
       "3.3333333333333335"
      ]
     },
     "execution_count": 2,
     "metadata": {},
     "output_type": "execute_result"
    }
   ],
   "source": [
    "# This will convert 200 minutes to hours by diving by 60\n",
    "200/60"
   ]
  },
  {
   "cell_type": "markdown",
   "id": "7d0ed629-89fa-4a46-802f-b656c6d79089",
   "metadata": {},
   "source": [
    "## Author\n",
    "Amit Katkar"
   ]
  },
  {
   "cell_type": "code",
   "execution_count": null,
   "id": "75a7371e-376b-4a9f-af28-c4afb8d484f6",
   "metadata": {},
   "outputs": [],
   "source": []
  }
 ],
 "metadata": {
  "kernelspec": {
   "display_name": "Python 3 (ipykernel)",
   "language": "python",
   "name": "python3"
  },
  "language_info": {
   "codemirror_mode": {
    "name": "ipython",
    "version": 3
   },
   "file_extension": ".py",
   "mimetype": "text/x-python",
   "name": "python",
   "nbconvert_exporter": "python",
   "pygments_lexer": "ipython3",
   "version": "3.9.13"
  }
 },
 "nbformat": 4,
 "nbformat_minor": 5
}
